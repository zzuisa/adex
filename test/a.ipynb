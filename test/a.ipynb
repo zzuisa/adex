{
 "cells": [
  {
   "cell_type": "code",
   "execution_count": 10,
   "metadata": {},
   "outputs": [
    {
     "name": "stdout",
     "output_type": "stream",
     "text": [
      "Dropped data: C:/Users/awx1302580/Desktop/请假\n",
      "Parsed paths: ['C:/Users/awx1302580/Desktop/请假']\n",
      "path: C:\\Users\\awx1302580\\Desktop\\请假\n",
      "Dropped data: C:/Users/awx1302580/Desktop/请假\n",
      "Parsed paths: ['C:/Users/awx1302580/Desktop/请假']\n",
      "path: C:\\Users\\awx1302580\\Desktop\\请假\n",
      "Dropped data: C:/Users/awx1302580/Desktop/请假\n",
      "Parsed paths: ['C:/Users/awx1302580/Desktop/请假']\n",
      "path: C:\\Users\\awx1302580\\Desktop\\请假\n",
      "Dropped data: C:/Users/Public/Desktop/eShare.lnk\n",
      "Parsed paths: ['C:/Users/Public/Desktop/eShare.lnk']\n",
      "path: C:\\Users\\Public\\Desktop\\eShare.lnk\n",
      "Dropped data: C:/Users/Public/Desktop/eShare.lnk\n",
      "Parsed paths: ['C:/Users/Public/Desktop/eShare.lnk']\n",
      "path: C:\\Users\\Public\\Desktop\\eShare.lnk\n"
     ]
    }
   ],
   "source": [
    "import os\n",
    "import json\n",
    "import re\n",
    "import tkinter as tk\n",
    "from tkinterdnd2 import DND_FILES, TkinterDnD\n",
    "\n",
    "# 定义 JSON 文件路径\n",
    "RESOURCES_FILE = \"resources.json\"\n",
    "\n",
    "def load_resources():\n",
    "    \"\"\"加载资源文件\"\"\"\n",
    "    if os.path.exists(RESOURCES_FILE):\n",
    "        with open(RESOURCES_FILE, \"r\", encoding=\"utf-8\") as file:\n",
    "            return json.load(file)\n",
    "    return {}\n",
    "\n",
    "def save_resources(resources):\n",
    "    \"\"\"保存资源文件\"\"\"\n",
    "    with open(RESOURCES_FILE, \"w\", encoding=\"utf-8\") as file:\n",
    "        json.dump(resources, file, indent=4, ensure_ascii=False)\n",
    "\n",
    "def handle_drop(event):\n",
    "    \"\"\"处理拖拽事件\"\"\"\n",
    "    # 打印 event.data，调试时查看数据格式\n",
    "    print(\"Dropped data:\", event.data)\n",
    "    raw_paths = event.data\n",
    "    # 使用正则表达式智能拆分路径\n",
    "    # raw_paths = re.findall(r'(?:[^\\s\"]|\"(?:\\\\.|[^\"])*\")+', event.data)\n",
    "    # 打印解析后的路径，帮助调试\n",
    "    raw_paths = re.findall(r'\\{[^}]*\\}|\\S+', raw_paths)\n",
    "    print(\"Parsed paths:\", raw_paths)\n",
    "    for raw_path in raw_paths:\n",
    "        if any(c in raw_path for c in '{}'):\n",
    "            raw_path = raw_path.strip('{}')\n",
    "        path = os.path.normpath(raw_path)  # 规范路径格式\n",
    "        file_name = os.path.basename(path) \n",
    "        if os.path.exists(path):\n",
    "            if os.path.isfile(path):\n",
    "                # 如果是文件，直接添加\n",
    "                add_resource(path, \"file\")\n",
    "            elif os.path.isdir(path):\n",
    "                # 如果是目录，递归添加目录下的所有文件\n",
    "                for root_dir, _, files in os.walk(path):\n",
    "                    for file in files:\n",
    "                        file_path = os.path.join(root_dir, file)\n",
    "                        add_resource(file_path, \"file\")\n",
    "    save_resources(resources)  # 更新资源文件\n",
    "    update_listbox()  # 更新 Listbox 显示\n",
    "\n",
    "def add_resource(path, resource_type):\n",
    "    \"\"\"将资源添加到字典中\"\"\"\n",
    "    name = os.path.basename(path)  # 获取文件或目录名称\n",
    "    resources[name] = {\n",
    "        \"path\": path,\n",
    "        \"type\": resource_type\n",
    "    }\n",
    "\n",
    "def update_listbox():\n",
    "    \"\"\"更新 Listbox 显示内容\"\"\"\n",
    "    resource_listbox.delete(0, tk.END)\n",
    "    for name, info in resources.items():\n",
    "        resource_listbox.insert(tk.END, f\"{name} ({info['type']})\")\n",
    "\n",
    "# 初始化 Tkinter 窗口\n",
    "root = TkinterDnD.Tk()\n",
    "root.title(\"拖拽文件或文件夹到此窗口\")\n",
    "root.geometry(\"600x400\")\n",
    "\n",
    "# 加载已有资源\n",
    "resources = load_resources()\n",
    "\n",
    "# 创建拖拽框\n",
    "drag_frame = tk.Frame(root, bg=\"#eaf4fc\", relief=\"ridge\", bd=2)\n",
    "drag_frame.pack(padx=10, pady=10, fill=\"both\", expand=True)\n",
    "drag_label = tk.Label(drag_frame, text=\"将文件或文件夹拖放到此处\", font=(\"Arial\", 16), bg=\"#eaf4fc\")\n",
    "drag_label.pack(fill=\"both\", expand=True)\n",
    "\n",
    "# 创建 Listbox 显示资源\n",
    "resource_listbox = tk.Listbox(root, font=(\"Arial\", 14), height=10)\n",
    "resource_listbox.pack(padx=10, pady=(0, 10), fill=\"both\", expand=True)\n",
    "\n",
    "# 绑定拖拽事件\n",
    "root.drop_target_register(DND_FILES)\n",
    "root.dnd_bind(\"<<Drop>>\", handle_drop)\n",
    "\n",
    "# 初始化 Listbox 内容\n",
    "update_listbox()\n",
    "\n",
    "root.mainloop()\n"
   ]
  },
  {
   "cell_type": "code",
   "execution_count": null,
   "metadata": {},
   "outputs": [],
   "source": []
  },
  {
   "cell_type": "code",
   "execution_count": 3,
   "metadata": {},
   "outputs": [
    {
     "data": {
      "text/plain": [
       "['{C:/Users/awx1302580/Desktop/2024-2025 新合同}',\n",
       " 'C:/Users/awx1302580/Desktop/bookmarks_11_8_24.html']"
      ]
     },
     "execution_count": 3,
     "metadata": {},
     "output_type": "execute_result"
    }
   ],
   "source": [
    "import re\n",
    "b = '{C:/Users/awx1302580/Desktop/2024-2025 新合同} C:/Users/awx1302580/Desktop/bookmarks_11_8_24.html'\n",
    "result = re.findall(r'\\{[^}]*\\}|\\S+', b)\n",
    "result "
   ]
  },
  {
   "cell_type": "code",
   "execution_count": 4,
   "metadata": {},
   "outputs": [
    {
     "data": {
      "text/plain": [
       "'C:/Users/awx1302580/Desktop/2024-2025 新合同'"
      ]
     },
     "execution_count": 4,
     "metadata": {},
     "output_type": "execute_result"
    }
   ],
   "source": [
    "a = '{C:/Users/awx1302580/Desktop/2024-2025 新合同}'\n",
    "result = a.strip('{}()')\n",
    "result"
   ]
  },
  {
   "cell_type": "code",
   "execution_count": 13,
   "metadata": {},
   "outputs": [
    {
     "data": {
      "text/plain": [
       "'{C:/Users/awx1302580/Desktop/2024-2025 新合同} C:/Users/awx1302580/Desktop/bookmarks_11_8_24.html'"
      ]
     },
     "execution_count": 13,
     "metadata": {},
     "output_type": "execute_result"
    }
   ],
   "source": [
    "result = ' '.join(item for item in b)\n",
    "result\n"
   ]
  }
 ],
 "metadata": {
  "kernelspec": {
   "display_name": "base",
   "language": "python",
   "name": "python3"
  },
  "language_info": {
   "codemirror_mode": {
    "name": "ipython",
    "version": 3
   },
   "file_extension": ".py",
   "mimetype": "text/x-python",
   "name": "python",
   "nbconvert_exporter": "python",
   "pygments_lexer": "ipython3",
   "version": "3.11.5"
  }
 },
 "nbformat": 4,
 "nbformat_minor": 2
}
